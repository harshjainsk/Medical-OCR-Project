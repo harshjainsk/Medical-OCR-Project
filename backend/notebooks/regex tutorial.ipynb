{
 "cells": [
  {
   "cell_type": "code",
   "execution_count": 1,
   "id": "8d693dba",
   "metadata": {},
   "outputs": [],
   "source": [
    "import re"
   ]
  },
  {
   "cell_type": "markdown",
   "id": "3247801e",
   "metadata": {},
   "source": [
    "## Extract all numbers from a text"
   ]
  },
  {
   "cell_type": "code",
   "execution_count": 6,
   "id": "67780c09",
   "metadata": {},
   "outputs": [],
   "source": [
    "text = \"Patient's phone number is 7321119999. Bill amount is 120$\"\n",
    "\n",
    "pattern = \"\\d+\"\n",
    "\n",
    "match = re.findall(pattern, text)"
   ]
  },
  {
   "cell_type": "code",
   "execution_count": 7,
   "id": "eeb57243",
   "metadata": {},
   "outputs": [
    {
     "data": {
      "text/plain": [
       "['7321119999', '120']"
      ]
     },
     "execution_count": 7,
     "metadata": {},
     "output_type": "execute_result"
    }
   ],
   "source": [
    "match"
   ]
  },
  {
   "cell_type": "markdown",
   "id": "97df078e",
   "metadata": {},
   "source": [
    "## Extract phone number form text"
   ]
  },
  {
   "cell_type": "code",
   "execution_count": 8,
   "id": "6e046c54",
   "metadata": {},
   "outputs": [
    {
     "data": {
      "text/plain": [
       "['7321119999']"
      ]
     },
     "execution_count": 8,
     "metadata": {},
     "output_type": "execute_result"
    }
   ],
   "source": [
    "pattern = \"\\d{10}\"\n",
    "re.findall(pattern,text)"
   ]
  },
  {
   "cell_type": "code",
   "execution_count": 11,
   "id": "d775d710",
   "metadata": {},
   "outputs": [
    {
     "data": {
      "text/plain": [
       "('(732)-111-9999', '7326664444', '120')"
      ]
     },
     "execution_count": 11,
     "metadata": {},
     "output_type": "execute_result"
    }
   ],
   "source": [
    "t = \"Patient's phone number is (732)-111-9999, spouse's phien number 7326664444. Bill amount is 120$\"\n",
    "p = \"([\\d^\\()-]+)\\D+(\\d{10})\\D+(\\d+)\\$\"\n",
    "match = re.search(p, t)\n",
    "\n",
    "match.groups()\n"
   ]
  },
  {
   "cell_type": "code",
   "execution_count": 12,
   "id": "1ef699cd",
   "metadata": {},
   "outputs": [
    {
     "data": {
      "text/plain": [
       "<re.Match object; span=(26, 95), match=\"(732)-111-9999, spouse's phien number 7326664444.>"
      ]
     },
     "execution_count": 12,
     "metadata": {},
     "output_type": "execute_result"
    }
   ],
   "source": [
    "match"
   ]
  },
  {
   "cell_type": "code",
   "execution_count": 17,
   "id": "8f557e99",
   "metadata": {},
   "outputs": [
    {
     "data": {
      "text/plain": [
       "('(732)-111-9999', '7326664444', '120')"
      ]
     },
     "execution_count": 17,
     "metadata": {},
     "output_type": "execute_result"
    }
   ],
   "source": [
    "p = \"([\\d^\\()-]+)\\D+(\\d{10})\\D+(\\d+)\\$\"\n",
    "re.search(p,t).groups()"
   ]
  },
  {
   "cell_type": "markdown",
   "id": "6aafe493",
   "metadata": {},
   "source": [
    "## Extracting name from text"
   ]
  },
  {
   "cell_type": "code",
   "execution_count": 29,
   "id": "930be15f",
   "metadata": {},
   "outputs": [],
   "source": [
    "text = \"\"\"\n",
    "Dr John Smith, M.D\n",
    "2 Non-Important Street,\n",
    "New York, Phone (000)-111-2222\n",
    "\n",
    "Name: Maria Sharapova Date: 5/11/2022\n",
    "\n",
    "Address: 9 tennis court, new Russia, DC\n",
    "\n",
    "\n",
    "Prednisone 20 mg\n",
    "Lialda 2.4 gram\n",
    "\n",
    "Directions:\"\"\"\n",
    "\n",
    "pattern = \"Name:(.*)Date:\"\n",
    "\n",
    "match = re.findall(pattern, text)"
   ]
  },
  {
   "cell_type": "code",
   "execution_count": 30,
   "id": "229aa19c",
   "metadata": {},
   "outputs": [
    {
     "data": {
      "text/plain": [
       "'Maria Sharapova'"
      ]
     },
     "execution_count": 30,
     "metadata": {},
     "output_type": "execute_result"
    }
   ],
   "source": [
    "match[0].strip()"
   ]
  },
  {
   "cell_type": "markdown",
   "id": "d2895e9e",
   "metadata": {},
   "source": [
    "## Extracting address"
   ]
  },
  {
   "cell_type": "code",
   "execution_count": 33,
   "id": "d9bde1fd",
   "metadata": {},
   "outputs": [
    {
     "data": {
      "text/plain": [
       "'Prednisone 20 mg\\nLialda 2.4 gram'"
      ]
     },
     "execution_count": 33,
     "metadata": {},
     "output_type": "execute_result"
    }
   ],
   "source": [
    "pattern = \"Address:[^\\n]*(.*)Direction\"\n",
    "\n",
    "match = re.findall(pattern, text, flags = re.DOTALL)\n",
    "match[0].strip()"
   ]
  },
  {
   "cell_type": "markdown",
   "id": "d2ae44f2",
   "metadata": {},
   "source": [
    "## Directions"
   ]
  },
  {
   "cell_type": "code",
   "execution_count": 34,
   "id": "5175a928",
   "metadata": {},
   "outputs": [],
   "source": [
    "pattern = \"Directions:(.*)Refill\""
   ]
  },
  {
   "cell_type": "markdown",
   "id": "0f6f5b84",
   "metadata": {},
   "source": [
    "## Twitter handles"
   ]
  },
  {
   "cell_type": "code",
   "execution_count": null,
   "id": "a017681c",
   "metadata": {},
   "outputs": [],
   "source": []
  }
 ],
 "metadata": {
  "kernelspec": {
   "display_name": "Python 3 (ipykernel)",
   "language": "python",
   "name": "python3"
  },
  "language_info": {
   "codemirror_mode": {
    "name": "ipython",
    "version": 3
   },
   "file_extension": ".py",
   "mimetype": "text/x-python",
   "name": "python",
   "nbconvert_exporter": "python",
   "pygments_lexer": "ipython3",
   "version": "3.9.5"
  }
 },
 "nbformat": 4,
 "nbformat_minor": 5
}
